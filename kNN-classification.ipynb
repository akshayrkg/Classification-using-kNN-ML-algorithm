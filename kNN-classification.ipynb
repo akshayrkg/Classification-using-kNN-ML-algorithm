{
 "cells": [
  {
   "cell_type": "code",
   "execution_count": 1,
   "metadata": {},
   "outputs": [],
   "source": [
    "##IRIS data Classification Using kNN machine learning algorithm\n",
    "#Modules Import\n",
    "import pandas as pd                          #for data manipulation \n",
    "import numpy as np                           #for multidimensional array computing\n",
    "import math\n",
    "import collections\n",
    "import random"
   ]
  },
  {
   "cell_type": "code",
   "execution_count": 2,
   "metadata": {},
   "outputs": [],
   "source": [
    "# Converting the labels to integers\n",
    "\n",
    "def labels(s):\n",
    "    s=s.strip().lower()\n",
    "    if s == \"iris-setosa\":\n",
    "        return 0\n",
    "    elif s== \"iris-versicolor\":\n",
    "        return 1\n",
    "    elif s == \"iris-virginica\":\n",
    "        return 2\n",
    "    else: return 'X'"
   ]
  },
  {
   "cell_type": "code",
   "execution_count": 3,
   "metadata": {},
   "outputs": [],
   "source": [
    "    \n",
    "# Reading Data\n",
    "data = pd.read_csv(\"/Users/kaku/Downloads/AIML/M1S3/bezdekIris.data\",header=None,converters={4:labels})\n",
    "\n"
   ]
  },
  {
   "cell_type": "code",
   "execution_count": 4,
   "metadata": {},
   "outputs": [
    {
     "name": "stdout",
     "output_type": "stream",
     "text": [
      "Class: [0.0, 1.0, 2.0] Count: [50 50 50]\n"
     ]
    }
   ],
   "source": [
    "features=data.values[:,0:4]\n",
    "labels=data.values[:,4:]\n",
    "\n",
    "#To see if classes are evenly distributed. Also possible outlier check.\n",
    "classes,counts = np.unique(labels, return_counts=True)\n",
    "print('Class:',list(classes),'Count:',counts)\n"
   ]
  },
  {
   "cell_type": "code",
   "execution_count": 5,
   "metadata": {},
   "outputs": [
    {
     "data": {
      "text/plain": [
       "array([[-0.90068117,  1.01900435, -1.34022653, -1.3154443 ],\n",
       "       [-1.14301691, -0.13197948, -1.34022653, -1.3154443 ],\n",
       "       [-1.38535265,  0.32841405, -1.39706395, -1.3154443 ],\n",
       "       [-1.50652052,  0.09821729, -1.2833891 , -1.3154443 ],\n",
       "       [-1.02184904,  1.24920112, -1.34022653, -1.3154443 ],\n",
       "       [-0.53717756,  1.93979142, -1.16971425, -1.05217993],\n",
       "       [-1.50652052,  0.78880759, -1.34022653, -1.18381211],\n",
       "       [-1.02184904,  0.78880759, -1.2833891 , -1.3154443 ],\n",
       "       [-1.74885626, -0.36217625, -1.34022653, -1.3154443 ],\n",
       "       [-1.14301691,  0.09821729, -1.2833891 , -1.44707648],\n",
       "       [-0.53717756,  1.47939788, -1.2833891 , -1.3154443 ]])"
      ]
     },
     "execution_count": 5,
     "metadata": {},
     "output_type": "execute_result"
    }
   ],
   "source": [
    "#Normalisation\n",
    "def stats(data):\n",
    "    mean=np.mean(data,0)\n",
    "    std=np.std(data,0)\n",
    "    return norm(data,mean,std)\n",
    "def norm(data,mean,std):\n",
    "    xnorm=(data-mean)/std\n",
    "    return xnorm\n",
    "stdfeatures=stats(features)\n",
    "stdfeatures[:11]     #looking at first 11 normalised values\n",
    "\n"
   ]
  },
  {
   "cell_type": "code",
   "execution_count": 6,
   "metadata": {},
   "outputs": [
    {
     "data": {
      "text/plain": [
       "(120, 30)"
      ]
     },
     "execution_count": 6,
     "metadata": {},
     "output_type": "execute_result"
    }
   ],
   "source": [
    "##Preparing test and train data\n",
    "\n",
    "train=[]\n",
    "test=[]\n",
    "ratio=0.8\n",
    "\n",
    "dataset=data.values.tolist()\n",
    "random.shuffle(dataset)\n",
    "trainmax=int(len(dataset)*ratio)\n",
    "for i in dataset[:trainmax]:\n",
    "    train.append(i)\n",
    "for i in dataset[trainmax:]:\n",
    "    test.append(i)\n",
    "len(train),len(test)\n",
    "\n"
   ]
  },
  {
   "cell_type": "code",
   "execution_count": 7,
   "metadata": {},
   "outputs": [],
   "source": [
    "###kNN Algorithm\n",
    "###Euclidean distance\n",
    "\n",
    "def distance(a,b):\n",
    "    return math.sqrt(sum(([(a[i]-b[i])**2 for i in range(len(a)-1)])))\n",
    "\n",
    "def NN(k,train,test):\n",
    "    dist=[]\n",
    "    for i in train:\n",
    "        dist.append((distance(i,test),str(int(i[-1]))))\n",
    "        dist.sort()\n",
    "    return dist[:k]\n",
    "def classification(k,train,test):\n",
    "    most=collections.Counter()\n",
    "    for i in NN(k,train,test):\n",
    "        most.update(i[-1])\n",
    "    return most.most_common(1)[0]"
   ]
  },
  {
   "cell_type": "code",
   "execution_count": 8,
   "metadata": {},
   "outputs": [
    {
     "name": "stdout",
     "output_type": "stream",
     "text": [
      "Accuracy is 96.666667 percentage\n"
     ]
    }
   ],
   "source": [
    "###Testing\n",
    "k=5\n",
    "accuratecount=[]\n",
    "for i in test:\n",
    "    prediction=classification(k,train,i)\n",
    "    if prediction[0]==str(int(i[-1])):\n",
    "        accuratecount.append(1)\n",
    "accuracy=sum(accuratecount)/len(test)*100\n",
    "print(\"Accuracy is %f percentage\"%accuracy)\n",
    "    \n",
    "    \n",
    "\n",
    "\n",
    "\n"
   ]
  }
 ],
 "metadata": {
  "kernelspec": {
   "display_name": "Python 3",
   "language": "python",
   "name": "python3"
  },
  "language_info": {
   "codemirror_mode": {
    "name": "ipython",
    "version": 3
   },
   "file_extension": ".py",
   "mimetype": "text/x-python",
   "name": "python",
   "nbconvert_exporter": "python",
   "pygments_lexer": "ipython3",
   "version": "3.6.3"
  }
 },
 "nbformat": 4,
 "nbformat_minor": 2
}
