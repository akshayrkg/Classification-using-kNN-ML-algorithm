{
 "cells": [
  {
   "cell_type": "code",
   "execution_count": 11,
   "metadata": {},
   "outputs": [],
   "source": [
    "import numpy as np\n",
    "import pandas as pd\n",
    "from sklearn.preprocessing import Imputer\n",
    "from sklearn.cross_validation import train_test_split\n",
    "from sklearn.neighbors import KNeighborsClassifier\n",
    "from sklearn.metrics import accuracy_score\n",
    "import matplotlib.pyplot as plt"
   ]
  },
  {
   "cell_type": "code",
   "execution_count": 2,
   "metadata": {},
   "outputs": [],
   "source": [
    "#converting labels to 0 and 1\n",
    "def labels(s):\n",
    "    s=s.strip().lower()\n",
    "    if s == \"iris-setosa\":\n",
    "        return 0\n",
    "    elif s== \"iris-versicolor\":\n",
    "        return 1\n",
    "    elif s == \"iris-virginica\":\n",
    "        return 2\n",
    "    else: return 'X'"
   ]
  },
  {
   "cell_type": "code",
   "execution_count": 4,
   "metadata": {
    "scrolled": true
   },
   "outputs": [],
   "source": [
    "dataset=pd.read_csv(\"/Users/kaku/Downloads/AIML/git/iris/bezdekIris.data\", header=None, converters={4:labels})"
   ]
  },
  {
   "cell_type": "code",
   "execution_count": 5,
   "metadata": {},
   "outputs": [],
   "source": [
    "#data\n",
    "labels=dataset.values[:,-1]\n",
    "data=dataset.values[:,:4]\n",
    "#data,labels"
   ]
  },
  {
   "cell_type": "code",
   "execution_count": 6,
   "metadata": {
    "scrolled": true
   },
   "outputs": [
    {
     "data": {
      "text/plain": [
       "array([ 1.,  1.,  2.,  0.,  0.,  1.,  0.,  1.,  2.,  2.,  0.,  1.,  2.,\n",
       "        2.,  0.,  0.,  0.,  0.,  1.,  0.,  0.,  0.,  1.,  2.,  2.,  1.,\n",
       "        2.,  1.,  2.,  2.,  1.,  0.,  2.,  2.,  2.,  0.,  0.,  2.,  0.,\n",
       "        0.,  0.,  1.,  2.,  2.,  2.,  0.,  1.,  1.,  0.,  1.,  1.,  2.,\n",
       "        0.,  1.,  1.,  1.,  1.,  1.,  1.,  2.,  2.,  0.,  1.,  0.,  1.,\n",
       "        2.,  2.,  2.,  1.,  0.,  0.,  0.,  0.,  2.,  0.,  0.,  1.,  0.,\n",
       "        2.,  1.,  2.,  0.,  2.,  2.,  0.,  1.,  1.,  1.,  2.,  1.,  1.,\n",
       "        0.,  0.,  0.,  2.,  1.,  1.,  0.,  2.,  2.,  2.,  1.,  1.,  1.,\n",
       "        1.,  2.,  2.,  0.,  0.,  1.,  1.,  1.,  1.,  2.,  1.,  1.,  2.,\n",
       "        1.,  0.,  0.])"
      ]
     },
     "execution_count": 6,
     "metadata": {},
     "output_type": "execute_result"
    }
   ],
   "source": [
    "x_train, x_test, y_train, y_test= train_test_split (data,labels,test_size=0.2, random_state=100)\n",
    "y_train"
   ]
  },
  {
   "cell_type": "code",
   "execution_count": 7,
   "metadata": {},
   "outputs": [
    {
     "data": {
      "text/plain": [
       "array([ 1.,  1.,  2.,  0.,  0.,  1.,  0.,  1.,  2.,  2.,  0.,  1.,  2.,\n",
       "        2.,  0.,  0.,  0.,  0.,  1.,  0.,  0.,  0.,  1.,  2.,  2.,  1.,\n",
       "        2.,  1.,  2.,  2.,  1.,  0.,  2.,  2.,  2.,  0.,  0.,  2.,  0.,\n",
       "        0.,  0.,  1.,  2.,  2.,  2.,  0.,  1.,  1.,  0.,  1.,  1.,  2.,\n",
       "        0.,  1.,  1.,  1.,  1.,  1.,  1.,  2.,  2.,  0.,  1.,  0.,  1.,\n",
       "        2.,  2.,  2.,  1.,  0.,  0.,  0.,  0.,  2.,  0.,  0.,  1.,  0.,\n",
       "        2.,  1.,  2.,  0.,  2.,  2.,  0.,  1.,  1.,  1.,  2.,  1.,  1.,\n",
       "        0.,  0.,  0.,  2.,  1.,  1.,  0.,  2.,  2.,  2.,  1.,  1.,  1.,\n",
       "        1.,  2.,  2.,  0.,  0.,  1.,  1.,  1.,  1.,  2.,  1.,  1.,  2.,\n",
       "        1.,  0.,  0.])"
      ]
     },
     "execution_count": 7,
     "metadata": {},
     "output_type": "execute_result"
    }
   ],
   "source": [
    "y_train = y_train.ravel()\n",
    "y_test = y_test.ravel()\n",
    "y_train"
   ]
  },
  {
   "cell_type": "code",
   "execution_count": 8,
   "metadata": {},
   "outputs": [
    {
     "data": {
      "text/plain": [
       "(120, 30)"
      ]
     },
     "execution_count": 8,
     "metadata": {},
     "output_type": "execute_result"
    }
   ],
   "source": [
    "len(y_train),len(y_test)"
   ]
  },
  {
   "cell_type": "code",
   "execution_count": 9,
   "metadata": {},
   "outputs": [
    {
     "name": "stdout",
     "output_type": "stream",
     "text": [
      "Accuracy at 1 is 100.0 %.\n",
      "Accuracy at 2 is 100.0 %.\n",
      "Accuracy at 3 is 100.0 %.\n",
      "Accuracy at 4 is 100.0 %.\n",
      "Accuracy at 5 is 100.0 %.\n",
      "Accuracy at 6 is 100.0 %.\n",
      "Accuracy at 7 is 100.0 %.\n",
      "Accuracy at 8 is 100.0 %.\n",
      "Accuracy at 9 is 100.0 %.\n",
      "Accuracy at 10 is 100.0 %.\n",
      "Accuracy at 11 is 100.0 %.\n",
      "Accuracy at 12 is 100.0 %.\n",
      "Accuracy at 13 is 100.0 %.\n",
      "Accuracy at 14 is 100.0 %.\n",
      "Accuracy at 15 is 100.0 %.\n",
      "Accuracy at 16 is 96.6666666667 %.\n",
      "Accuracy at 17 is 100.0 %.\n",
      "Accuracy at 18 is 100.0 %.\n",
      "Accuracy at 19 is 100.0 %.\n",
      "Accuracy at 20 is 100.0 %.\n",
      "Accuracy at 21 is 100.0 %.\n",
      "Accuracy at 22 is 100.0 %.\n",
      "Accuracy at 23 is 100.0 %.\n",
      "Accuracy at 24 is 100.0 %.\n",
      "Accuracy at 25 is 100.0 %.\n",
      "Accuracy at 26 is 100.0 %.\n"
     ]
    }
   ],
   "source": [
    "xc=[]\n",
    "yc=[]\n",
    "for k in range(26):\n",
    "    nn = k+1\n",
    "    algorithm = KNeighborsClassifier(n_neighbors = nn,metric= 'euclidean', weights='distance')\n",
    "    algorithm.fit(x_train,y_train)\n",
    "    y_pred = algorithm.predict(x_test)\n",
    "    accuracy = accuracy_score(y_test,y_pred)*100\n",
    "    yc.append(accuracy)\n",
    "    xc.append(nn)\n",
    "    print('Accuracy at',nn, 'is',accuracy,'%.' )\n"
   ]
  },
  {
   "cell_type": "code",
   "execution_count": 10,
   "metadata": {},
   "outputs": [
    {
     "data": {
      "text/plain": [
       "[<matplotlib.lines.Line2D at 0x113ca5f60>]"
      ]
     },
     "execution_count": 10,
     "metadata": {},
     "output_type": "execute_result"
    },
    {
     "data": {
      "image/png": "[encoded data removed]",
      "text/plain": [
       "<matplotlib.figure.Figure at 0x113c4e6a0>"
      ]
     },
     "metadata": {},
     "output_type": "display_data"
    }
   ],
   "source": [
    "plt.plot(xc,yc,'b-')\n"
   ]
  },
  {
   "cell_type": "code",
   "execution_count": null,
   "metadata": {},
   "outputs": [],
   "source": []
  },
  {
   "cell_type": "code",
   "execution_count": null,
   "metadata": {},
   "outputs": [],
   "source": []
  }
 ],
 "metadata": {
  "kernelspec": {
   "display_name": "Python 3",
   "language": "python",
   "name": "python3"
  },
  "language_info": {
   "codemirror_mode": {
    "name": "ipython",
    "version": 3
   },
   "file_extension": ".py",
   "mimetype": "text/x-python",
   "name": "python",
   "nbconvert_exporter": "python",
   "pygments_lexer": "ipython3",
   "version": "3.6.3"
  }
 },
 "nbformat": 4,
 "nbformat_minor": 2
}
